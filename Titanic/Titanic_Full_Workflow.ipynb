{
 "cells": [
  {
   "cell_type": "code",
   "execution_count": 1,
   "metadata": {
    "collapsed": false
   },
   "outputs": [],
   "source": [
    "import pandas as pd\n",
    "import os\n",
    "import datetime\n",
    "import re\n",
    "import numpy as np\n",
    "import graphlab as gl\n",
    "from subprocess import check_output\n",
    "os.chdir('/Users/sobh/Desktop/abby/go2git/titanic_data')"
   ]
  },
  {
   "cell_type": "code",
   "execution_count": 2,
   "metadata": {
    "collapsed": false
   },
   "outputs": [],
   "source": [
    "df = pd.read_csv('train.csv', header=0)\n",
    "cf = pd.read_csv('test.csv', header=0)"
   ]
  },
  {
   "cell_type": "code",
   "execution_count": 3,
   "metadata": {
    "collapsed": false,
    "scrolled": false
   },
   "outputs": [],
   "source": [
    "#df['Name'].unique()\n",
    "#sum(df['Cabin'].isnull())"
   ]
  },
  {
   "cell_type": "code",
   "execution_count": 4,
   "metadata": {
    "collapsed": false
   },
   "outputs": [],
   "source": [
    "def formatDF(df):\n",
    "    df['Gender'] = df['Sex'].map( {'female': 0, 'male': 1} ).astype(int)\n",
    "    df = df.drop(['Sex'], axis=1)\n",
    "\n",
    "    # Since the missing embarked values are both from 1st class tickets,\n",
    "    # can use the ticket price to infer they are embarking from 'C'\n",
    "    df['Embarked'] = df['Embarked'].map( {np.nan: 2, 'S': 1, 'C': 2,\\\n",
    "                                            'Q': 3} ).astype(int)\n",
    "   \n",
    "    df['AgeMedians'] = df['Age']\n",
    "    df['AgeMeans'] = df['Age']\n",
    "    df['FareMedians'] = df['Fare']\n",
    "    df['FareMeans'] = df['Fare']\n",
    "\n",
    "    \n",
    "    df2 = df\n",
    "    \n",
    "    df2['Cabin'] = df2['Cabin'].str.replace('.*A.*','A')\n",
    "    df2['Cabin'] = df2['Cabin'].str.replace('.*B.*','B')\n",
    "    df2['Cabin'] = df2['Cabin'].str.replace('.*C.*','C')\n",
    "    df2['Cabin'] = df2['Cabin'].str.replace('.*D.*','D')\n",
    "    df2['Cabin'] = df2['Cabin'].str.replace('.*E.*','E')\n",
    "    df2['Cabin'] = df2['Cabin'].str.replace('.*F.*','F')\n",
    "    df2['Cabin'] = df2['Cabin'].str.replace('.*G.*','G')\n",
    "    df2['Cabin'] = df2['Cabin'].str.replace('.*T.*','T')    \n",
    "    df2.loc[ (df2.Cabin.isnull()),\\\n",
    "                    'Cabin'] = 'NoCabin'\n",
    "    \n",
    "\n",
    "    df2['LastName'] = df['Name'].map(lambda x: x.split(',')[0])\n",
    "    df2['Name'] = df2['Name'].str.replace('.*Mr.*','1')\n",
    "    df2['Name'] = df2['Name'].str.replace('.*Jonkheer.*','8')\n",
    "    df2['Name'] = df2['Name'].str.replace('.*Countess.*','8')\n",
    "    df2['Name'] = df2['Name'].str.replace('.*Don.*','1')\n",
    "    df2['Name'] = df2['Name'].str.replace('.*Major.*','4')\n",
    "    df2['Name'] = df2['Name'].str.replace('.*Col.*','4')\n",
    "    df2['Name'] = df2['Name'].str.replace('.*Capt.*','4')\n",
    "    df2['Name'] = df2['Name'].str.replace('.*Miss.*','3')\n",
    "    df2['Name'] = df2['Name'].str.replace('.*Ms.*','3')\n",
    "    df2['Name'] = df2['Name'].str.replace('.*Mlle.*','3')\n",
    "    df2['Name'] = df2['Name'].str.replace('.*Mrs.*','2')\n",
    "    df2['Name'] = df2['Name'].str.replace('.*Mme.*','2')\n",
    "    df2['Name'] = df2['Name'].str.replace('.*Master.*','5')\n",
    "    df2['Name'] = df2['Name'].str.replace('.*Rev.*','6')\n",
    "    df2['Name'] = df2['Name'].str.replace('.*Dr.*','7')\n",
    "    df['Name'] = df2['Name']\n",
    "\n",
    "\n",
    "    median_ages = np.zeros((2,3))\n",
    "    mean_ages = np.zeros((2,3))\n",
    "    \n",
    "    median_fares = np.zeros((3,3))\n",
    "    mean_fares = np.zeros((3,3))\n",
    "    \n",
    "    for i in range(0, 2):\n",
    "        for j in range(0, 3):\n",
    "            median_ages[i,j] = df[(df['Gender'] == i) & \\\n",
    "                                  (df['Pclass'] == j+1)]['Age'].dropna().median()\n",
    "            mean_ages[i,j] = df[(df['Gender'] == i) & \\\n",
    "                                  (df['Pclass'] == j+1)]['Age'].dropna().mean()     \n",
    "\n",
    "    for i in range(0, 3):\n",
    "        for j in range(0, 3):            \n",
    "            median_fares[i,j] = df[(df['Embarked'] == i) & \\\n",
    "                                  (df['Pclass'] == j+1)]['Fare'].dropna().median()\n",
    "            mean_fares[i,j] = df[(df['Embarked'] == i) & \\\n",
    "                                  (df['Pclass'] == j+1)]['Fare'].dropna().mean()   \n",
    "\n",
    "    for i in range(0, 2):\n",
    "        for j in range(0, 3):\n",
    "            df.loc[ (df.Age.isnull()) & (df.Gender == i) & (df.Pclass == j+1),\\\n",
    "                    'AgeMedians'] = median_ages[i,j]\n",
    "            df.loc[ (df.Age.isnull()) & (df.Gender == i) & (df.Pclass == j+1),\\\n",
    "                    'AgeMeans'] = mean_ages[i,j]      \n",
    "            \n",
    "    for i in range(0, 3):\n",
    "        for j in range(0, 3):            \n",
    "            df.loc[ (df.Fare.isnull()) & (df.Embarked == i) & (df.Pclass == j+1),\\\n",
    "                    'FareMedians'] = median_fares[i,j]\n",
    "            df.loc[ (df.Fare.isnull()) & (df.Embarked == i) & (df.Pclass == j+1),\\\n",
    "                    'FareMeans'] = mean_fares[i,j]                \n",
    "    return df"
   ]
  },
  {
   "cell_type": "code",
   "execution_count": 5,
   "metadata": {
    "collapsed": false
   },
   "outputs": [],
   "source": [
    "df = formatDF(df)\n",
    "dftwo = df"
   ]
  },
  {
   "cell_type": "code",
   "execution_count": 6,
   "metadata": {
    "collapsed": false
   },
   "outputs": [],
   "source": [
    "cf = formatDF(cf)\n",
    "dfthree = cf"
   ]
  },
  {
   "cell_type": "code",
   "execution_count": 7,
   "metadata": {
    "collapsed": true
   },
   "outputs": [],
   "source": [
    "# Binning the fares\n",
    "def functionb(data):\n",
    "    if (data < 8):\n",
    "        return 0\n",
    "    elif (8<=data<15):\n",
    "        return 1\n",
    "    elif (15<=data<32):\n",
    "        return 2\n",
    "    elif (data >= 32):\n",
    "        return 3\n",
    "    else:\n",
    "        return 1\n",
    "\n",
    "dftwo['AdjFare'] = dftwo['Fare'].map(functionb)\n",
    "dfthree['AdjFare'] = dfthree['Fare'].map(functionb)\n",
    "df2 = dftwo\n",
    "df3 = dfthree"
   ]
  },
  {
   "cell_type": "code",
   "execution_count": 8,
   "metadata": {
    "collapsed": true
   },
   "outputs": [],
   "source": [
    "# add the FamilySize, FamilyTier parameters\n",
    "dftwo['FamilySize'] = dftwo['SibSp'] + dftwo['Parch']\n",
    "dfthree['FamilySize'] = dfthree['SibSp'] + dfthree['Parch']\n",
    "def functionc(data):\n",
    "    if (data == 0):\n",
    "        return 1\n",
    "    elif (data > 4):\n",
    "        return 0\n",
    "    else:\n",
    "        return 2\n",
    "\n",
    "dftwo['FamilyTier'] = dftwo['FamilySize'].map(functionc)\n",
    "dfthree['FamilyTier'] = dfthree['FamilySize'].map(functionc)"
   ]
  },
  {
   "cell_type": "code",
   "execution_count": 9,
   "metadata": {
    "collapsed": true
   },
   "outputs": [],
   "source": [
    "# If multiple people share the same ticket or only a single person on the ticket\n",
    "def functionX2(data):\n",
    "    ticket_count = dftwo['Ticket'].value_counts()[data]\n",
    "    if (ticket_count > 1):\n",
    "        return 1\n",
    "    else:\n",
    "        return 0\n",
    "    \n",
    "def functionX3(data):\n",
    "    ticket_count = dfthree['Ticket'].value_counts()[data]\n",
    "    if (ticket_count > 1):\n",
    "        return 1\n",
    "    else:\n",
    "        return 0\n",
    "\n",
    "dftwo['HasTicketMates'] = dftwo['Ticket'].map(functionX2)\n",
    "dfthree['HasTicketMates'] = dfthree['Ticket'].map(functionX3)\n",
    "\n"
   ]
  },
  {
   "cell_type": "code",
   "execution_count": 10,
   "metadata": {
    "collapsed": false
   },
   "outputs": [],
   "source": [
    "# The Train Set\n",
    "df2 = dftwo\n",
    "# The Test Set\n",
    "df3 = dfthree"
   ]
  },
  {
   "cell_type": "code",
   "execution_count": 11,
   "metadata": {
    "collapsed": false
   },
   "outputs": [
    {
     "name": "stderr",
     "output_type": "stream",
     "text": [
      "[INFO] graphlab.cython.cy_server: GraphLab Create v2.1 started. Logging: /tmp/graphlab_server_1474344828.log\n"
     ]
    },
    {
     "name": "stdout",
     "output_type": "stream",
     "text": [
      "This non-commercial license of GraphLab Create for academic use is assigned to abbysobh@gmail.com and will expire on July 13, 2017.\n",
      "PROGRESS: Creating a validation set from 5 percent of training data. This may take a while.\n",
      "          You can set ``validation_set=None`` to disable validation tracking.\n",
      "\n"
     ]
    },
    {
     "data": {
      "text/html": [
       "<pre>Boosted trees regression:</pre>"
      ],
      "text/plain": [
       "Boosted trees regression:"
      ]
     },
     "metadata": {},
     "output_type": "display_data"
    },
    {
     "data": {
      "text/html": [
       "<pre>--------------------------------------------------------</pre>"
      ],
      "text/plain": [
       "--------------------------------------------------------"
      ]
     },
     "metadata": {},
     "output_type": "display_data"
    },
    {
     "data": {
      "text/html": [
       "<pre>Number of examples          : 555</pre>"
      ],
      "text/plain": [
       "Number of examples          : 555"
      ]
     },
     "metadata": {},
     "output_type": "display_data"
    },
    {
     "data": {
      "text/html": [
       "<pre>Number of features          : 3</pre>"
      ],
      "text/plain": [
       "Number of features          : 3"
      ]
     },
     "metadata": {},
     "output_type": "display_data"
    },
    {
     "data": {
      "text/html": [
       "<pre>Number of unpacked features : 3</pre>"
      ],
      "text/plain": [
       "Number of unpacked features : 3"
      ]
     },
     "metadata": {},
     "output_type": "display_data"
    },
    {
     "data": {
      "text/html": [
       "<pre>+-----------+--------------+--------------------+----------------------+---------------+-----------------+</pre>"
      ],
      "text/plain": [
       "+-----------+--------------+--------------------+----------------------+---------------+-----------------+"
      ]
     },
     "metadata": {},
     "output_type": "display_data"
    },
    {
     "data": {
      "text/html": [
       "<pre>| Iteration | Elapsed Time | Training-max_error | Validation-max_error | Training-rmse | Validation-rmse |</pre>"
      ],
      "text/plain": [
       "| Iteration | Elapsed Time | Training-max_error | Validation-max_error | Training-rmse | Validation-rmse |"
      ]
     },
     "metadata": {},
     "output_type": "display_data"
    },
    {
     "data": {
      "text/html": [
       "<pre>+-----------+--------------+--------------------+----------------------+---------------+-----------------+</pre>"
      ],
      "text/plain": [
       "+-----------+--------------+--------------------+----------------------+---------------+-----------------+"
      ]
     },
     "metadata": {},
     "output_type": "display_data"
    },
    {
     "data": {
      "text/html": [
       "<pre>| 1         | 0.010437     | 61.851425          | 45.851425            | 22.880531     | 23.281815       |</pre>"
      ],
      "text/plain": [
       "| 1         | 0.010437     | 61.851425          | 45.851425            | 22.880531     | 23.281815       |"
      ]
     },
     "metadata": {},
     "output_type": "display_data"
    },
    {
     "data": {
      "text/html": [
       "<pre>| 2         | 0.014328     | 50.208832          | 34.208832            | 16.198025     | 16.570265       |</pre>"
      ],
      "text/plain": [
       "| 2         | 0.014328     | 50.208832          | 34.208832            | 16.198025     | 16.570265       |"
      ]
     },
     "metadata": {},
     "output_type": "display_data"
    },
    {
     "data": {
      "text/html": [
       "<pre>| 3         | 0.019318     | 40.342545          | 24.342545            | 11.471787     | 11.756824       |</pre>"
      ],
      "text/plain": [
       "| 3         | 0.019318     | 40.342545          | 24.342545            | 11.471787     | 11.756824       |"
      ]
     },
     "metadata": {},
     "output_type": "display_data"
    },
    {
     "data": {
      "text/html": [
       "<pre>| 4         | 0.025206     | 32.926769          | 16.926769            | 8.145508      | 8.235658        |</pre>"
      ],
      "text/plain": [
       "| 4         | 0.025206     | 32.926769          | 16.926769            | 8.145508      | 8.235658        |"
      ]
     },
     "metadata": {},
     "output_type": "display_data"
    },
    {
     "data": {
      "text/html": [
       "<pre>| 5         | 0.029265     | 26.824013          | 10.824013            | 5.793760      | 5.589430        |</pre>"
      ],
      "text/plain": [
       "| 5         | 0.029265     | 26.824013          | 10.824013            | 5.793760      | 5.589430        |"
      ]
     },
     "metadata": {},
     "output_type": "display_data"
    },
    {
     "data": {
      "text/html": [
       "<pre>| 6         | 0.033017     | 21.938957          | 7.971039             | 4.133640      | 3.989734        |</pre>"
      ],
      "text/plain": [
       "| 6         | 0.033017     | 21.938957          | 7.971039             | 4.133640      | 3.989734        |"
      ]
     },
     "metadata": {},
     "output_type": "display_data"
    },
    {
     "data": {
      "text/html": [
       "<pre>+-----------+--------------+--------------------+----------------------+---------------+-----------------+</pre>"
      ],
      "text/plain": [
       "+-----------+--------------+--------------------+----------------------+---------------+-----------------+"
      ]
     },
     "metadata": {},
     "output_type": "display_data"
    }
   ],
   "source": [
    "prTrainFull = gl.SFrame(data=df2)\n",
    "prTrain = prTrainFull.dropna()\n",
    "prTestFull  = gl.SFrame(data=df3)\n",
    "prTest = prTestFull.dropna()\n",
    "# Make a train-test split\n",
    "\n",
    "train_data, test_data = (prTrain).random_split(0.8)\n",
    "# Create a model.\n",
    "# gl.boosted_trees_classifier.create\n",
    "# gl.classifier.create\n",
    "model = gl.boosted_trees_regression.create(train_data, target='Age',\n",
    "                            features=['AgeMedians','AgeMeans', 'Gender'])\n",
    "\n",
    "\n",
    "\n",
    "df2['PredictedAge'] = model.predict(prTrainFull)\n",
    "df3['PredictedAge'] = model.predict(prTestFull)"
   ]
  },
  {
   "cell_type": "code",
   "execution_count": 12,
   "metadata": {
    "collapsed": false
   },
   "outputs": [],
   "source": [
    "def functiond(data):\n",
    "    if (data > 16):\n",
    "        return 1\n",
    "    else:\n",
    "        return 0\n",
    "    \n",
    "df2['IsAdult'] = df2['PredictedAge'].map(functiond)\n",
    "df3['IsAdult'] = df3['PredictedAge'].map(functiond)\n",
    "\n",
    "\n",
    "# Credit to Omar El Gabry (https://www.kaggle.com/omarelgabry)\n",
    "# For treating children as a non-gender.\n",
    "# This helps to slightly unskew the Gender/Survival bias.\n",
    "df2.loc[ (df2.IsAdult == 0, 'Gender')] = 2\n",
    "df3.loc[ (df3.IsAdult == 0, 'Gender')] = 2    \n"
   ]
  },
  {
   "cell_type": "code",
   "execution_count": 22,
   "metadata": {
    "collapsed": false
   },
   "outputs": [],
   "source": [
    "# diagnostic...should be at the top of this code, not here\n",
    "#for item in df2.columns:\n",
    "#    if item not in (\"PassengerId\",\"Age\",\"Ticket\"):\n",
    "#        print(item)\n",
    "#        print(df2[item].value_counts())"
   ]
  },
  {
   "cell_type": "code",
   "execution_count": 13,
   "metadata": {
    "collapsed": false,
    "scrolled": true
   },
   "outputs": [],
   "source": [
    "shelTrain0 = gl.SFrame(data=df2)\n",
    "#dropTrain = df4\n",
    "shelTest0 = gl.SFrame(data=df3)\n"
   ]
  },
  {
   "cell_type": "code",
   "execution_count": 14,
   "metadata": {
    "collapsed": false
   },
   "outputs": [
    {
     "name": "stdout",
     "output_type": "stream",
     "text": [
      "PROGRESS: Creating a validation set from 5 percent of training data. This may take a while.\n",
      "          You can set ``validation_set=None`` to disable validation tracking.\n",
      "\n"
     ]
    },
    {
     "data": {
      "text/html": [
       "<pre>Boosted trees regression:</pre>"
      ],
      "text/plain": [
       "Boosted trees regression:"
      ]
     },
     "metadata": {},
     "output_type": "display_data"
    },
    {
     "data": {
      "text/html": [
       "<pre>--------------------------------------------------------</pre>"
      ],
      "text/plain": [
       "--------------------------------------------------------"
      ]
     },
     "metadata": {},
     "output_type": "display_data"
    },
    {
     "data": {
      "text/html": [
       "<pre>Number of examples          : 680</pre>"
      ],
      "text/plain": [
       "Number of examples          : 680"
      ]
     },
     "metadata": {},
     "output_type": "display_data"
    },
    {
     "data": {
      "text/html": [
       "<pre>Number of features          : 12</pre>"
      ],
      "text/plain": [
       "Number of features          : 12"
      ]
     },
     "metadata": {},
     "output_type": "display_data"
    },
    {
     "data": {
      "text/html": [
       "<pre>Number of unpacked features : 12</pre>"
      ],
      "text/plain": [
       "Number of unpacked features : 12"
      ]
     },
     "metadata": {},
     "output_type": "display_data"
    },
    {
     "data": {
      "text/html": [
       "<pre>+-----------+--------------+--------------------+----------------------+---------------+-----------------+</pre>"
      ],
      "text/plain": [
       "+-----------+--------------+--------------------+----------------------+---------------+-----------------+"
      ]
     },
     "metadata": {},
     "output_type": "display_data"
    },
    {
     "data": {
      "text/html": [
       "<pre>| Iteration | Elapsed Time | Training-max_error | Validation-max_error | Training-rmse | Validation-rmse |</pre>"
      ],
      "text/plain": [
       "| Iteration | Elapsed Time | Training-max_error | Validation-max_error | Training-rmse | Validation-rmse |"
      ]
     },
     "metadata": {},
     "output_type": "display_data"
    },
    {
     "data": {
      "text/html": [
       "<pre>+-----------+--------------+--------------------+----------------------+---------------+-----------------+</pre>"
      ],
      "text/plain": [
       "+-----------+--------------+--------------------+----------------------+---------------+-----------------+"
      ]
     },
     "metadata": {},
     "output_type": "display_data"
    },
    {
     "data": {
      "text/html": [
       "<pre>| 1         | 0.010821     | 0.626136           | 0.648636             | 0.412178      | 0.424496        |</pre>"
      ],
      "text/plain": [
       "| 1         | 0.010821     | 0.626136           | 0.648636             | 0.412178      | 0.424496        |"
      ]
     },
     "metadata": {},
     "output_type": "display_data"
    },
    {
     "data": {
      "text/html": [
       "<pre>| 2         | 0.019271     | 0.718035           | 0.753087             | 0.358577      | 0.379439        |</pre>"
      ],
      "text/plain": [
       "| 2         | 0.019271     | 0.718035           | 0.753087             | 0.358577      | 0.379439        |"
      ]
     },
     "metadata": {},
     "output_type": "display_data"
    },
    {
     "data": {
      "text/html": [
       "<pre>| 3         | 0.025182     | 0.757440           | 0.826488             | 0.323373      | 0.351355        |</pre>"
      ],
      "text/plain": [
       "| 3         | 0.025182     | 0.757440           | 0.826488             | 0.323373      | 0.351355        |"
      ]
     },
     "metadata": {},
     "output_type": "display_data"
    },
    {
     "data": {
      "text/html": [
       "<pre>| 4         | 0.032007     | 0.796751           | 0.878068             | 0.302560      | 0.336581        |</pre>"
      ],
      "text/plain": [
       "| 4         | 0.032007     | 0.796751           | 0.878068             | 0.302560      | 0.336581        |"
      ]
     },
     "metadata": {},
     "output_type": "display_data"
    },
    {
     "data": {
      "text/html": [
       "<pre>| 5         | 0.038520     | 0.830945           | 0.914315             | 0.286831      | 0.335560        |</pre>"
      ],
      "text/plain": [
       "| 5         | 0.038520     | 0.830945           | 0.914315             | 0.286831      | 0.335560        |"
      ]
     },
     "metadata": {},
     "output_type": "display_data"
    },
    {
     "data": {
      "text/html": [
       "<pre>| 6         | 0.043664     | 0.851089           | 0.939787             | 0.279615      | 0.333784        |</pre>"
      ],
      "text/plain": [
       "| 6         | 0.043664     | 0.851089           | 0.939787             | 0.279615      | 0.333784        |"
      ]
     },
     "metadata": {},
     "output_type": "display_data"
    },
    {
     "data": {
      "text/html": [
       "<pre>| 11        | 0.066959     | 0.896931           | 0.957379             | 0.261038      | 0.332487        |</pre>"
      ],
      "text/plain": [
       "| 11        | 0.066959     | 0.896931           | 0.957379             | 0.261038      | 0.332487        |"
      ]
     },
     "metadata": {},
     "output_type": "display_data"
    },
    {
     "data": {
      "text/html": [
       "<pre>| 51        | 0.215394     | 0.943196           | 0.943196             | 0.187128      | 0.334420        |</pre>"
      ],
      "text/plain": [
       "| 51        | 0.215394     | 0.943196           | 0.943196             | 0.187128      | 0.334420        |"
      ]
     },
     "metadata": {},
     "output_type": "display_data"
    },
    {
     "data": {
      "text/html": [
       "<pre>| 101       | 0.385766     | 0.649909           | 0.965607             | 0.136942      | 0.339923        |</pre>"
      ],
      "text/plain": [
       "| 101       | 0.385766     | 0.649909           | 0.965607             | 0.136942      | 0.339923        |"
      ]
     },
     "metadata": {},
     "output_type": "display_data"
    },
    {
     "data": {
      "text/html": [
       "<pre>| 250       | 0.966840     | 0.557959           | 0.987718             | 0.064452      | 0.363315        |</pre>"
      ],
      "text/plain": [
       "| 250       | 0.966840     | 0.557959           | 0.987718             | 0.064452      | 0.363315        |"
      ]
     },
     "metadata": {},
     "output_type": "display_data"
    },
    {
     "data": {
      "text/html": [
       "<pre>+-----------+--------------+--------------------+----------------------+---------------+-----------------+</pre>"
      ],
      "text/plain": [
       "+-----------+--------------+--------------------+----------------------+---------------+-----------------+"
      ]
     },
     "metadata": {},
     "output_type": "display_data"
    }
   ],
   "source": [
    "# Create a model.\n",
    "# gl.boosted_trees_classifier.create\n",
    "# gl.classifier.create\n",
    "\n",
    "train_data,test_data = shelTrain0.random_split(0.8)\n",
    "model = gl.boosted_trees_regression.create(train_data, target='Survived',\n",
    "                                           features=[\n",
    "\n",
    " 'Pclass',\n",
    " 'Name',\n",
    " 'LastName',\n",
    "# 'Age',\n",
    "# 'SibSp',\n",
    "# 'Parch',\n",
    "# 'Ticket',\n",
    "# 'Fare',\n",
    " 'Cabin',\n",
    " 'Embarked',\n",
    " 'Gender',\n",
    "# 'AgeMedians',\n",
    "# 'AgeMeans',\n",
    "# 'FareMedians',\n",
    "# 'FareMeans',\n",
    " 'AdjFare',\n",
    " 'FamilySize',\n",
    " 'FamilyTier',\n",
    " 'HasTicketMates',\n",
    " 'PredictedAge',\n",
    " 'IsAdult'\n",
    "                                                    ], max_iterations=300)\n",
    "\n",
    "predictions = model.predict(test_data)\n",
    "# Evaluate the model and save the results into a dictionary\n",
    "#results = model.evaluate(test_data)\n",
    "#results"
   ]
  },
  {
   "cell_type": "code",
   "execution_count": 16,
   "metadata": {
    "collapsed": false
   },
   "outputs": [],
   "source": [
    "#shelTrain0.column_names()\n",
    "#model.get_feature_importance()\n",
    "#model.get('coefficients')"
   ]
  },
  {
   "cell_type": "code",
   "execution_count": 17,
   "metadata": {
    "collapsed": false,
    "scrolled": true
   },
   "outputs": [],
   "source": [
    "#model.show()\n",
    "#model.show(view=\"Tree\", tree_id=0)"
   ]
  },
  {
   "cell_type": "code",
   "execution_count": 18,
   "metadata": {
    "collapsed": false
   },
   "outputs": [
    {
     "data": {
      "text/plain": [
       "{'max_error': 1.2462415099143982, 'rmse': 0.40818917457607884}"
      ]
     },
     "execution_count": 18,
     "metadata": {},
     "output_type": "execute_result"
    }
   ],
   "source": [
    "predictions = model.predict(test_data)\n",
    "# Evaluate the model and save the results into a dictionary\n",
    "results = model.evaluate(test_data)\n",
    "results"
   ]
  },
  {
   "cell_type": "code",
   "execution_count": 516,
   "metadata": {
    "collapsed": false
   },
   "outputs": [
    {
     "data": {
      "text/plain": [
       "graphlab.toolkits.regression.boosted_trees_regression.BoostedTreesRegression"
      ]
     },
     "execution_count": 516,
     "metadata": {},
     "output_type": "execute_result"
    }
   ],
   "source": [
    "save_model = model\n",
    "type(save_model)"
   ]
  },
  {
   "cell_type": "code",
   "execution_count": 19,
   "metadata": {
    "collapsed": true
   },
   "outputs": [],
   "source": [
    "# A model comparison maker between a certain model and future iterations...as a function\n",
    "# For regression models...\n",
    "import math\n",
    "def log_loss_raw(target, predicted):\n",
    "    '''Calculate log_loss between target and predicted and return.'''\n",
    "    p = predicted.apply(lambda x: min(0.99999, max(1e-5, x)))\n",
    "    logp = p.apply(lambda x: math.log(x))\n",
    "    logmp = p.apply(lambda x: (math.log(1-x)))\n",
    "    return -(target * logp + (1-target) * logmp).mean()\n",
    "\n",
    "def eval_model(model, test):\n",
    "    '''Evaluate a trained model using Kaggle scoring.'''\n",
    "    return log_loss_raw(test['Survived'], model.predict(test))\n",
    "\n",
    "# Usage:\n",
    "# print \"%0.20f\" % eval_model(baseline_model, test_set)"
   ]
  },
  {
   "cell_type": "code",
   "execution_count": 20,
   "metadata": {
    "collapsed": false
   },
   "outputs": [
    {
     "name": "stdout",
     "output_type": "stream",
     "text": [
      "0.68159369018371873672\n"
     ]
    }
   ],
   "source": [
    "print \"%0.20f\" % eval_model(model, test_data)"
   ]
  },
  {
   "cell_type": "code",
   "execution_count": 529,
   "metadata": {
    "collapsed": false
   },
   "outputs": [],
   "source": [
    "#drop_ages_predict = model.predict(shelTest)\n",
    "#shelTest['PredictedAge'] = drop_ages_predict\n",
    "#shelTrain"
   ]
  },
  {
   "cell_type": "code",
   "execution_count": 236,
   "metadata": {
    "collapsed": false
   },
   "outputs": [],
   "source": [
    "#shelTest.export_csv('Predicted_Test.csv')\n",
    "#shelTrain.export_csv('Predicted_Train.csv')\n",
    "#shelTest"
   ]
  },
  {
   "cell_type": "code",
   "execution_count": 21,
   "metadata": {
    "collapsed": false
   },
   "outputs": [],
   "source": [
    "#true_predictions = model.predict(hts)\n",
    "#true_predictions = model.predict(qsg)\n",
    "true_predictions = model.predict(shelTest0)"
   ]
  },
  {
   "cell_type": "code",
   "execution_count": 22,
   "metadata": {
    "collapsed": true
   },
   "outputs": [],
   "source": [
    "# Basic rounding\n",
    "a = true_predictions.apply(lambda x: (x>=0.5))"
   ]
  },
  {
   "cell_type": "code",
   "execution_count": 23,
   "metadata": {
    "collapsed": false
   },
   "outputs": [
    {
     "data": {
      "text/plain": [
       "406"
      ]
     },
     "execution_count": 23,
     "metadata": {},
     "output_type": "execute_result"
    }
   ],
   "source": [
    "# If used regression, round the values at a cutoff\n",
    "a = true_predictions.apply(lambda x: (x>0.6))\n",
    "b = true_predictions.apply(lambda x: (x>=0.5))\n",
    "\n",
    "#true_predictions\n",
    "sum(a == b)\n",
    "#b"
   ]
  },
  {
   "cell_type": "code",
   "execution_count": 24,
   "metadata": {
    "collapsed": false
   },
   "outputs": [],
   "source": [
    "#shelTest0['Survived'] = true_predictions\n",
    "shelTest0['Survived'] = a"
   ]
  },
  {
   "cell_type": "code",
   "execution_count": 25,
   "metadata": {
    "collapsed": false
   },
   "outputs": [],
   "source": [
    "shelTestSubmit = shelTest0['PassengerId','Survived']"
   ]
  },
  {
   "cell_type": "code",
   "execution_count": 55,
   "metadata": {
    "collapsed": true
   },
   "outputs": [],
   "source": [
    "shelTestSubmit.save('Titanic_Results.csv')"
   ]
  }
 ],
 "metadata": {
  "kernelspec": {
   "display_name": "Python 2",
   "language": "python",
   "name": "python2"
  },
  "language_info": {
   "codemirror_mode": {
    "name": "ipython",
    "version": 2
   },
   "file_extension": ".py",
   "mimetype": "text/x-python",
   "name": "python",
   "nbconvert_exporter": "python",
   "pygments_lexer": "ipython2",
   "version": "2.7.12"
  }
 },
 "nbformat": 4,
 "nbformat_minor": 0
}
